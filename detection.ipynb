{
 "cells": [
  {
   "cell_type": "markdown",
   "id": "d5b6c389",
   "metadata": {},
   "source": [
    "## Loading the csv file and making some changes and verifications"
   ]
  },
  {
   "cell_type": "code",
   "execution_count": null,
   "id": "bd34081f-c6d5-4c18-a018-7cbd5b974cc9",
   "metadata": {},
   "outputs": [],
   "source": [
    "import pandas as pd"
   ]
  },
  {
   "cell_type": "code",
   "execution_count": null,
   "id": "fa3b0e17-7cc7-4d60-9efb-1af5b998e2a3",
   "metadata": {},
   "outputs": [],
   "source": [
    "# load the dataset mushroom, where the objective is predict whether a mushroom is poisonous or not (\"class\" column)\n",
    "dataset = pd.read_csv('./dataset/mushroom_cleaned.csv')\n",
    "dataset"
   ]
  },
  {
   "cell_type": "code",
   "execution_count": null,
   "id": "c3c2a621",
   "metadata": {},
   "outputs": [],
   "source": [
    "# change the name \"class\" to \"poisonous\"\n",
    "dataset.rename(columns={'class':'poisonous'}, inplace=True)\n",
    "dataset.info()"
   ]
  },
  {
   "cell_type": "code",
   "execution_count": null,
   "id": "b0930159",
   "metadata": {},
   "outputs": [],
   "source": [
    "### TO - DO\n",
    "# Fazer uns gráficos mostrando como os valores de cada parâmetro se distribui\n",
    "# Se for possível fazer esses valores em relação a ser ou não venenoso"
   ]
  },
  {
   "cell_type": "code",
   "execution_count": null,
   "id": "045d256f-2872-48dd-9f2b-eea4662eba81",
   "metadata": {},
   "outputs": [],
   "source": [
    "# see if there are any null values\n",
    "dataset.isnull().sum(axis=0)"
   ]
  },
  {
   "cell_type": "markdown",
   "id": "efd564cd",
   "metadata": {},
   "source": [
    "## Making the tests and predictions"
   ]
  },
  {
   "cell_type": "code",
   "execution_count": null,
   "id": "c79bad2d",
   "metadata": {},
   "outputs": [],
   "source": [
    "from sklearn.model_selection import train_test_split\n",
    "import graphviz"
   ]
  },
  {
   "cell_type": "code",
   "execution_count": null,
   "id": "5e530098",
   "metadata": {},
   "outputs": [],
   "source": [
    "labels = dataset.poisonous\n",
    "\n",
    "dataframe = dataset.drop('poisonous',inplace=False, axis=1)\n",
    "dataframe"
   ]
  },
  {
   "cell_type": "code",
   "execution_count": null,
   "id": "d7c9be74",
   "metadata": {},
   "outputs": [],
   "source": [
    "# separating the data in 2 groups (training and testing), the test group will have 10% of the data\n",
    "train, test, res_train, res_test = train_test_split(dataframe, labels, test_size=0.99)"
   ]
  },
  {
   "cell_type": "markdown",
   "id": "7c3627af",
   "metadata": {},
   "source": [
    "### Decision Tree"
   ]
  },
  {
   "cell_type": "code",
   "execution_count": null,
   "id": "ed3d0709-5ca9-4712-8bbc-801bf3af728b",
   "metadata": {},
   "outputs": [],
   "source": [
    "from sklearn.tree import DecisionTreeClassifier"
   ]
  },
  {
   "cell_type": "code",
   "execution_count": null,
   "id": "72c2cf70",
   "metadata": {},
   "outputs": [],
   "source": [
    "# Complexity parameter used for Minimal Cost-Complexity Pruning. The subtree with the largest cost complexity that is smaller than ccp_alpha will be chosen. \n",
    "# In short, this value will reduce the tree, but the probabilities will change\n",
    "tree = DecisionTreeClassifier(ccp_alpha=0.001)\n",
    "tree.fit(train, res_train)"
   ]
  },
  {
   "cell_type": "code",
   "execution_count": null,
   "id": "3f9d8993",
   "metadata": {},
   "outputs": [],
   "source": [
    "# plotar a arvore de decisão em pdf para melhor visualização\n",
    "labels_name = ['0', '1']\n",
    "graph_date = export_graphviz(tree, feature_names=dataframe.columns, class_names=labels_name, filled=True)\n",
    "graph = graphviz.Source(graph_date.replace(' fillcolor=\"#399de5\"', ' fillcolor=\"#399de5\", shape=\"diamond\"'))\n",
    "# graph.render('decision_tree')\n",
    "\n",
    "# interpretação dos nós da arvore\n",
    "# +-----------------+\n",
    "# |  atributo <= ?  | # indica qual atribulo foi selecionado por ter maior ganho de informação e a valor que melhor divide o dataset com base nesse atributo (se verdadeiro vai pra esquerda se falso direita)\n",
    "# |    gini = ?     | # nivel de impureza do atributo com base na classe\n",
    "# |   samples = ?   | # quantidade de exemplos dos dados de treino utilizado na analise desse nó\n",
    "# | values = [ ?]?, | # quantidade de exemplos por classe\n",
    "# |    class = ?    | # qual a classe se a analise parar nesse nó (selecionado com base na classe com maior número de exemplo (classe majoritária))\n",
    "# +-----------------+"
   ]
  },
  {
   "cell_type": "code",
   "execution_count": null,
   "id": "ac2f592b",
   "metadata": {},
   "outputs": [],
   "source": [
    "# predicting using the test group (0 or 1)\n",
    "predict_values = tree.predict(test)\n",
    "predict_values"
   ]
  },
  {
   "cell_type": "code",
   "execution_count": null,
   "id": "95557ff6",
   "metadata": {},
   "outputs": [],
   "source": [
    "# predicting using the test group (probability of 0 or 1)\n",
    "predict_probabilities = tree.predict_proba(test)\n",
    "predict_probabilities"
   ]
  },
  {
   "cell_type": "markdown",
   "id": "4dd872e4",
   "metadata": {},
   "source": [
    "### K-Nearest Neighbors (KNN)"
   ]
  },
  {
   "cell_type": "code",
   "execution_count": null,
   "id": "4d9c47b6-f26a-48a5-a90e-bd51faadf061",
   "metadata": {},
   "outputs": [],
   "source": []
  },
  {
   "cell_type": "markdown",
   "id": "18560561",
   "metadata": {},
   "source": [
    "### Regressçao Logística"
   ]
  },
  {
   "cell_type": "markdown",
   "id": "43983b90",
   "metadata": {},
   "source": [
    "### Random Forest"
   ]
  },
  {
   "cell_type": "markdown",
   "id": "a2899849",
   "metadata": {},
   "source": [
    "### Support Vector Machine (SVM)"
   ]
  },
  {
   "cell_type": "markdown",
   "id": "563cf91f",
   "metadata": {},
   "source": [
    "## Make some differents evalutions"
   ]
  },
  {
   "cell_type": "code",
   "execution_count": null,
   "id": "1e547b4f",
   "metadata": {},
   "outputs": [],
   "source": [
    "from sklearn.metrics import confusion_matrix\n",
    "\n",
    "confusion_matrix(res_test, predict_values)\n",
    "\n",
    "# mostra em forma de matriz, quantos deram (1,1), (1,0) (0,1), (0,0)\n",
    "# como a precisão é alta, os valores da diagonal principal sao maiores\n",
    "# (0,0)   (0,1)\n",
    "# (1,0)   (1,1)\n",
    "# PODE OLHAR SE TA TENDO MAIS FALSO POSITIVO OU FALSO NEGATIVO"
   ]
  },
  {
   "cell_type": "code",
   "execution_count": null,
   "id": "92e93c10",
   "metadata": {},
   "outputs": [],
   "source": [
    "from sklearn.metrics import classification_report\n",
    "\n",
    "print(classification_report(res_test, predict_values, target_names=['0', '1']))"
   ]
  },
  {
   "cell_type": "markdown",
   "id": "e66e34ba",
   "metadata": {},
   "source": [
    "## Making some insights"
   ]
  },
  {
   "cell_type": "code",
   "execution_count": null,
   "id": "743ff551",
   "metadata": {},
   "outputs": [],
   "source": [
    "features_names = dataframe.columns\n",
    "features_names"
   ]
  },
  {
   "cell_type": "code",
   "execution_count": null,
   "id": "bfe5cf8d",
   "metadata": {},
   "outputs": [],
   "source": [
    "feature_importance = pd.DataFrame(tree.feature_importances_, index=features_names).sort_values(0, ascending=False)\n",
    "feature_importance"
   ]
  },
  {
   "cell_type": "code",
   "execution_count": null,
   "id": "eda54a95",
   "metadata": {},
   "outputs": [],
   "source": [
    "feature_importance.plot(kind='bar')"
   ]
  }
 ],
 "metadata": {
  "kernelspec": {
   "display_name": "Python 3 (ipykernel)",
   "language": "python",
   "name": "python3"
  },
  "language_info": {
   "codemirror_mode": {
    "name": "ipython",
    "version": 3
   },
   "file_extension": ".py",
   "mimetype": "text/x-python",
   "name": "python",
   "nbconvert_exporter": "python",
   "pygments_lexer": "ipython3",
   "version": "3.10.12"
  }
 },
 "nbformat": 4,
 "nbformat_minor": 5
}
