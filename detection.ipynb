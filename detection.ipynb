{
 "cells": [
  {
   "cell_type": "markdown",
   "id": "d5b6c389",
   "metadata": {},
   "source": [
    "## Loading the csv file and making some changes and verifications"
   ]
  },
  {
   "cell_type": "code",
   "execution_count": 10,
   "id": "bd34081f-c6d5-4c18-a018-7cbd5b974cc9",
   "metadata": {},
   "outputs": [],
   "source": [
    "import pandas as pd"
   ]
  },
  {
   "cell_type": "code",
   "execution_count": 11,
   "id": "fa3b0e17-7cc7-4d60-9efb-1af5b998e2a3",
   "metadata": {},
   "outputs": [
    {
     "data": {
      "text/html": [
       "<div>\n",
       "<style scoped>\n",
       "    .dataframe tbody tr th:only-of-type {\n",
       "        vertical-align: middle;\n",
       "    }\n",
       "\n",
       "    .dataframe tbody tr th {\n",
       "        vertical-align: top;\n",
       "    }\n",
       "\n",
       "    .dataframe thead th {\n",
       "        text-align: right;\n",
       "    }\n",
       "</style>\n",
       "<table border=\"1\" class=\"dataframe\">\n",
       "  <thead>\n",
       "    <tr style=\"text-align: right;\">\n",
       "      <th></th>\n",
       "      <th>cap-diameter</th>\n",
       "      <th>cap-shape</th>\n",
       "      <th>gill-attachment</th>\n",
       "      <th>gill-color</th>\n",
       "      <th>stem-height</th>\n",
       "      <th>stem-width</th>\n",
       "      <th>stem-color</th>\n",
       "      <th>season</th>\n",
       "      <th>class</th>\n",
       "    </tr>\n",
       "  </thead>\n",
       "  <tbody>\n",
       "    <tr>\n",
       "      <th>0</th>\n",
       "      <td>1372</td>\n",
       "      <td>2</td>\n",
       "      <td>2</td>\n",
       "      <td>10</td>\n",
       "      <td>3.807467</td>\n",
       "      <td>1545</td>\n",
       "      <td>11</td>\n",
       "      <td>1.804273</td>\n",
       "      <td>1</td>\n",
       "    </tr>\n",
       "    <tr>\n",
       "      <th>1</th>\n",
       "      <td>1461</td>\n",
       "      <td>2</td>\n",
       "      <td>2</td>\n",
       "      <td>10</td>\n",
       "      <td>3.807467</td>\n",
       "      <td>1557</td>\n",
       "      <td>11</td>\n",
       "      <td>1.804273</td>\n",
       "      <td>1</td>\n",
       "    </tr>\n",
       "    <tr>\n",
       "      <th>2</th>\n",
       "      <td>1371</td>\n",
       "      <td>2</td>\n",
       "      <td>2</td>\n",
       "      <td>10</td>\n",
       "      <td>3.612496</td>\n",
       "      <td>1566</td>\n",
       "      <td>11</td>\n",
       "      <td>1.804273</td>\n",
       "      <td>1</td>\n",
       "    </tr>\n",
       "    <tr>\n",
       "      <th>3</th>\n",
       "      <td>1261</td>\n",
       "      <td>6</td>\n",
       "      <td>2</td>\n",
       "      <td>10</td>\n",
       "      <td>3.787572</td>\n",
       "      <td>1566</td>\n",
       "      <td>11</td>\n",
       "      <td>1.804273</td>\n",
       "      <td>1</td>\n",
       "    </tr>\n",
       "    <tr>\n",
       "      <th>4</th>\n",
       "      <td>1305</td>\n",
       "      <td>6</td>\n",
       "      <td>2</td>\n",
       "      <td>10</td>\n",
       "      <td>3.711971</td>\n",
       "      <td>1464</td>\n",
       "      <td>11</td>\n",
       "      <td>0.943195</td>\n",
       "      <td>1</td>\n",
       "    </tr>\n",
       "    <tr>\n",
       "      <th>...</th>\n",
       "      <td>...</td>\n",
       "      <td>...</td>\n",
       "      <td>...</td>\n",
       "      <td>...</td>\n",
       "      <td>...</td>\n",
       "      <td>...</td>\n",
       "      <td>...</td>\n",
       "      <td>...</td>\n",
       "      <td>...</td>\n",
       "    </tr>\n",
       "    <tr>\n",
       "      <th>54030</th>\n",
       "      <td>73</td>\n",
       "      <td>5</td>\n",
       "      <td>3</td>\n",
       "      <td>2</td>\n",
       "      <td>0.887740</td>\n",
       "      <td>569</td>\n",
       "      <td>12</td>\n",
       "      <td>0.943195</td>\n",
       "      <td>1</td>\n",
       "    </tr>\n",
       "    <tr>\n",
       "      <th>54031</th>\n",
       "      <td>82</td>\n",
       "      <td>2</td>\n",
       "      <td>3</td>\n",
       "      <td>2</td>\n",
       "      <td>1.186164</td>\n",
       "      <td>490</td>\n",
       "      <td>12</td>\n",
       "      <td>0.943195</td>\n",
       "      <td>1</td>\n",
       "    </tr>\n",
       "    <tr>\n",
       "      <th>54032</th>\n",
       "      <td>82</td>\n",
       "      <td>5</td>\n",
       "      <td>3</td>\n",
       "      <td>2</td>\n",
       "      <td>0.915593</td>\n",
       "      <td>584</td>\n",
       "      <td>12</td>\n",
       "      <td>0.888450</td>\n",
       "      <td>1</td>\n",
       "    </tr>\n",
       "    <tr>\n",
       "      <th>54033</th>\n",
       "      <td>79</td>\n",
       "      <td>2</td>\n",
       "      <td>3</td>\n",
       "      <td>2</td>\n",
       "      <td>1.034963</td>\n",
       "      <td>491</td>\n",
       "      <td>12</td>\n",
       "      <td>0.888450</td>\n",
       "      <td>1</td>\n",
       "    </tr>\n",
       "    <tr>\n",
       "      <th>54034</th>\n",
       "      <td>72</td>\n",
       "      <td>5</td>\n",
       "      <td>3</td>\n",
       "      <td>2</td>\n",
       "      <td>1.158311</td>\n",
       "      <td>492</td>\n",
       "      <td>12</td>\n",
       "      <td>0.888450</td>\n",
       "      <td>1</td>\n",
       "    </tr>\n",
       "  </tbody>\n",
       "</table>\n",
       "<p>54035 rows × 9 columns</p>\n",
       "</div>"
      ],
      "text/plain": [
       "       cap-diameter  cap-shape  gill-attachment  gill-color  stem-height  \\\n",
       "0              1372          2                2          10     3.807467   \n",
       "1              1461          2                2          10     3.807467   \n",
       "2              1371          2                2          10     3.612496   \n",
       "3              1261          6                2          10     3.787572   \n",
       "4              1305          6                2          10     3.711971   \n",
       "...             ...        ...              ...         ...          ...   \n",
       "54030            73          5                3           2     0.887740   \n",
       "54031            82          2                3           2     1.186164   \n",
       "54032            82          5                3           2     0.915593   \n",
       "54033            79          2                3           2     1.034963   \n",
       "54034            72          5                3           2     1.158311   \n",
       "\n",
       "       stem-width  stem-color    season  class  \n",
       "0            1545          11  1.804273      1  \n",
       "1            1557          11  1.804273      1  \n",
       "2            1566          11  1.804273      1  \n",
       "3            1566          11  1.804273      1  \n",
       "4            1464          11  0.943195      1  \n",
       "...           ...         ...       ...    ...  \n",
       "54030         569          12  0.943195      1  \n",
       "54031         490          12  0.943195      1  \n",
       "54032         584          12  0.888450      1  \n",
       "54033         491          12  0.888450      1  \n",
       "54034         492          12  0.888450      1  \n",
       "\n",
       "[54035 rows x 9 columns]"
      ]
     },
     "execution_count": 11,
     "metadata": {},
     "output_type": "execute_result"
    }
   ],
   "source": [
    "# load the dataset mushroom, where the objective is predict whether a mushroom is poisonous or not (\"class\" column)\n",
    "dataset = pd.read_csv('./dataset/mushroom_cleaned.csv')\n",
    "dataset"
   ]
  },
  {
   "cell_type": "code",
   "execution_count": 12,
   "id": "c3c2a621",
   "metadata": {},
   "outputs": [
    {
     "name": "stdout",
     "output_type": "stream",
     "text": [
      "<class 'pandas.core.frame.DataFrame'>\n",
      "RangeIndex: 54035 entries, 0 to 54034\n",
      "Data columns (total 9 columns):\n",
      " #   Column           Non-Null Count  Dtype  \n",
      "---  ------           --------------  -----  \n",
      " 0   cap-diameter     54035 non-null  int64  \n",
      " 1   cap-shape        54035 non-null  int64  \n",
      " 2   gill-attachment  54035 non-null  int64  \n",
      " 3   gill-color       54035 non-null  int64  \n",
      " 4   stem-height      54035 non-null  float64\n",
      " 5   stem-width       54035 non-null  int64  \n",
      " 6   stem-color       54035 non-null  int64  \n",
      " 7   season           54035 non-null  float64\n",
      " 8   poisonous        54035 non-null  int64  \n",
      "dtypes: float64(2), int64(7)\n",
      "memory usage: 3.7 MB\n"
     ]
    }
   ],
   "source": [
    "# change the name \"class\" to \"poisonous\"\n",
    "dataset.rename(columns={'class':'poisonous'}, inplace=True)\n",
    "dataset.info()"
   ]
  },
  {
   "cell_type": "code",
   "execution_count": 13,
   "id": "b0930159",
   "metadata": {},
   "outputs": [],
   "source": [
    "### TO - DO\n",
    "# Fazer uns gráficos mostrando como os valores de cada parâmetro se distribui\n",
    "# Se for possível fazer esses valores em relação a ser ou não venenoso"
   ]
  },
  {
   "cell_type": "code",
   "execution_count": 14,
   "id": "045d256f-2872-48dd-9f2b-eea4662eba81",
   "metadata": {},
   "outputs": [
    {
     "data": {
      "text/plain": [
       "cap-diameter       0\n",
       "cap-shape          0\n",
       "gill-attachment    0\n",
       "gill-color         0\n",
       "stem-height        0\n",
       "stem-width         0\n",
       "stem-color         0\n",
       "season             0\n",
       "poisonous          0\n",
       "dtype: int64"
      ]
     },
     "execution_count": 14,
     "metadata": {},
     "output_type": "execute_result"
    }
   ],
   "source": [
    "# see if there are any null values\n",
    "dataset.isnull().sum(axis=0)"
   ]
  },
  {
   "cell_type": "markdown",
   "id": "efd564cd",
   "metadata": {},
   "source": [
    "## Making the tests and predictions"
   ]
  },
  {
   "cell_type": "code",
   "execution_count": 15,
   "id": "c79bad2d",
   "metadata": {},
   "outputs": [],
   "source": [
    "from sklearn.model_selection import train_test_split\n",
    "import graphviz\n",
    "import time"
   ]
  },
  {
   "cell_type": "code",
   "execution_count": 16,
   "id": "5e530098",
   "metadata": {},
   "outputs": [],
   "source": [
    "labels = dataset.poisonous\n",
    "dataframe = dataset.drop('poisonous',inplace=False, axis=1)"
   ]
  },
  {
   "cell_type": "code",
   "execution_count": 17,
   "id": "d7c9be74",
   "metadata": {},
   "outputs": [],
   "source": [
    "# separating the data in 2 groups (training and testing), the test group will have 10% of the data\n",
    "train, test, res_train, res_test = train_test_split(dataframe, labels, test_size=0.1, random_state=42)"
   ]
  },
  {
   "cell_type": "code",
   "execution_count": 18,
   "id": "b030db06",
   "metadata": {},
   "outputs": [],
   "source": [
    "algorithm = ['Decision Tree', 'K-Nearest Neighbors (KNN)', 'Regressao Logistica', 'Random Forest']\n",
    "\n",
    "predict_values = []\n",
    "predict_probabilities = []\n",
    "metrics = []\n",
    "exec_time = []"
   ]
  },
  {
   "cell_type": "markdown",
   "id": "7c3627af",
   "metadata": {},
   "source": [
    "### Decision Tree"
   ]
  },
  {
   "cell_type": "code",
   "execution_count": 19,
   "id": "ed3d0709-5ca9-4712-8bbc-801bf3af728b",
   "metadata": {},
   "outputs": [],
   "source": [
    "from sklearn.tree import DecisionTreeClassifier, export_graphviz"
   ]
  },
  {
   "cell_type": "code",
   "execution_count": 20,
   "id": "72c2cf70",
   "metadata": {},
   "outputs": [],
   "source": [
    "start_time = time.time()\n",
    "\n",
    "tree = DecisionTreeClassifier()\n",
    "tree.fit(train, res_train)\n",
    "\n",
    "end_time = time.time()\n",
    "\n",
    "exec_time.append(end_time - start_time)"
   ]
  },
  {
   "cell_type": "code",
   "execution_count": 21,
   "id": "d30e89f2",
   "metadata": {},
   "outputs": [
    {
     "data": {
      "text/plain": [
       "{'ccp_alpha': 0.0,\n",
       " 'class_weight': None,\n",
       " 'criterion': 'gini',\n",
       " 'max_depth': None,\n",
       " 'max_features': None,\n",
       " 'max_leaf_nodes': None,\n",
       " 'min_impurity_decrease': 0.0,\n",
       " 'min_samples_leaf': 1,\n",
       " 'min_samples_split': 2,\n",
       " 'min_weight_fraction_leaf': 0.0,\n",
       " 'random_state': None,\n",
       " 'splitter': 'best'}"
      ]
     },
     "execution_count": 21,
     "metadata": {},
     "output_type": "execute_result"
    }
   ],
   "source": [
    "tree.get_params()"
   ]
  },
  {
   "cell_type": "code",
   "execution_count": 22,
   "id": "3f9d8993",
   "metadata": {},
   "outputs": [],
   "source": [
    "# plotar a arvore de decisão em pdf para melhor visualização\n",
    "labels_name = ['0', '1']\n",
    "graph_date = export_graphviz(tree, feature_names=dataframe.columns, class_names=labels_name, filled=True)\n",
    "graph = graphviz.Source(graph_date.replace(' fillcolor=\"#399de5\"', ' fillcolor=\"#399de5\", shape=\"diamond\"'))\n",
    "# graph.render('decision_tree')\n",
    "\n",
    "# interpretação dos nós da arvore\n",
    "# +-----------------+\n",
    "# |  atributo <= ?  | # indica qual atribulo foi selecionado por ter maior ganho de informação e a valor que melhor divide o dataset com base nesse atributo (se verdadeiro vai pra esquerda se falso direita)\n",
    "# |    gini = ?     | # nivel de impureza do atributo com base na classe\n",
    "# |   samples = ?   | # quantidade de exemplos dos dados de treino utilizado na analise desse nó\n",
    "# | values = [ ?]?, | # quantidade de exemplos por classe\n",
    "# |    class = ?    | # qual a classe se a analise parar nesse nó (selecionado com base na classe com maior número de exemplo (classe majoritária))\n",
    "# +-----------------+"
   ]
  },
  {
   "cell_type": "code",
   "execution_count": 23,
   "id": "ac2f592b",
   "metadata": {},
   "outputs": [
    {
     "data": {
      "text/plain": [
       "array([0, 1, 0, ..., 1, 0, 0])"
      ]
     },
     "execution_count": 23,
     "metadata": {},
     "output_type": "execute_result"
    }
   ],
   "source": [
    "# predicting using the test group (0 or 1)\n",
    "predict_values.append(tree.predict(test))\n",
    "predict_values[0]"
   ]
  },
  {
   "cell_type": "code",
   "execution_count": 24,
   "id": "95557ff6",
   "metadata": {},
   "outputs": [
    {
     "data": {
      "text/plain": [
       "array([[1., 0.],\n",
       "       [0., 1.],\n",
       "       [1., 0.],\n",
       "       ...,\n",
       "       [0., 1.],\n",
       "       [1., 0.],\n",
       "       [1., 0.]])"
      ]
     },
     "execution_count": 24,
     "metadata": {},
     "output_type": "execute_result"
    }
   ],
   "source": [
    "# predicting using the test group (0 or 1)\n",
    "predict_probabilities.append(tree.predict_proba(test))\n",
    "predict_probabilities[0]"
   ]
  },
  {
   "cell_type": "markdown",
   "id": "4dd872e4",
   "metadata": {},
   "source": [
    "### K-Nearest Neighbors (KNN)"
   ]
  },
  {
   "cell_type": "code",
   "execution_count": 25,
   "id": "4d9c47b6-f26a-48a5-a90e-bd51faadf061",
   "metadata": {},
   "outputs": [],
   "source": [
    "from sklearn.neighbors import KNeighborsClassifier"
   ]
  },
  {
   "cell_type": "code",
   "execution_count": 26,
   "id": "82124c32",
   "metadata": {},
   "outputs": [],
   "source": [
    "start_time = time.time()\n",
    "\n",
    "neighbors = KNeighborsClassifier(n_neighbors=10)\n",
    "neighbors.fit(train, res_train)\n",
    "\n",
    "end_time = time.time()\n",
    "\n",
    "exec_time.append(end_time - start_time)"
   ]
  },
  {
   "cell_type": "code",
   "execution_count": 27,
   "id": "81c92cbe",
   "metadata": {},
   "outputs": [],
   "source": [
    "# neighbors.get_params()"
   ]
  },
  {
   "cell_type": "code",
   "execution_count": 28,
   "id": "3422ff4e",
   "metadata": {},
   "outputs": [
    {
     "data": {
      "text/plain": [
       "array([0, 1, 0, ..., 1, 0, 0])"
      ]
     },
     "execution_count": 28,
     "metadata": {},
     "output_type": "execute_result"
    }
   ],
   "source": [
    "# predicting using the test group (0 or 1)\n",
    "predict_values.append(neighbors.predict(test))\n",
    "predict_values[1]"
   ]
  },
  {
   "cell_type": "code",
   "execution_count": 29,
   "id": "ef0f91ed",
   "metadata": {},
   "outputs": [
    {
     "data": {
      "text/plain": [
       "array([[0.9, 0.1],\n",
       "       [0.3, 0.7],\n",
       "       [1. , 0. ],\n",
       "       ...,\n",
       "       [0. , 1. ],\n",
       "       [0.5, 0.5],\n",
       "       [0.8, 0.2]])"
      ]
     },
     "execution_count": 29,
     "metadata": {},
     "output_type": "execute_result"
    }
   ],
   "source": [
    "# predicting using the test group (0 or 1)\n",
    "predict_probabilities.append(neighbors.predict_proba(test))\n",
    "predict_probabilities[1]"
   ]
  },
  {
   "cell_type": "markdown",
   "id": "18560561",
   "metadata": {},
   "source": [
    "### Regressão Logística"
   ]
  },
  {
   "cell_type": "code",
   "execution_count": 30,
   "id": "931a918e",
   "metadata": {},
   "outputs": [],
   "source": [
    "from sklearn.linear_model import LogisticRegression"
   ]
  },
  {
   "cell_type": "code",
   "execution_count": 31,
   "id": "c92b4066",
   "metadata": {},
   "outputs": [],
   "source": [
    "start_time = time.time()\n",
    "\n",
    "logreg = LogisticRegression(max_iter=1000)\n",
    "logreg.fit(train, res_train)\n",
    "\n",
    "end_time = time.time()\n",
    "\n",
    "exec_time.append(end_time - start_time)"
   ]
  },
  {
   "cell_type": "code",
   "execution_count": 32,
   "id": "e97137a8",
   "metadata": {},
   "outputs": [
    {
     "data": {
      "text/plain": [
       "{'C': 1.0,\n",
       " 'class_weight': None,\n",
       " 'dual': False,\n",
       " 'fit_intercept': True,\n",
       " 'intercept_scaling': 1,\n",
       " 'l1_ratio': None,\n",
       " 'max_iter': 1000,\n",
       " 'multi_class': 'auto',\n",
       " 'n_jobs': None,\n",
       " 'penalty': 'l2',\n",
       " 'random_state': None,\n",
       " 'solver': 'lbfgs',\n",
       " 'tol': 0.0001,\n",
       " 'verbose': 0,\n",
       " 'warm_start': False}"
      ]
     },
     "execution_count": 32,
     "metadata": {},
     "output_type": "execute_result"
    }
   ],
   "source": [
    "logreg.get_params()"
   ]
  },
  {
   "cell_type": "code",
   "execution_count": 33,
   "id": "8c2d2e10",
   "metadata": {},
   "outputs": [
    {
     "data": {
      "text/plain": [
       "array([0, 1, 0, ..., 1, 0, 0])"
      ]
     },
     "execution_count": 33,
     "metadata": {},
     "output_type": "execute_result"
    }
   ],
   "source": [
    "# predicting using the test group (0 or 1)\n",
    "predict_values.append(logreg.predict(test))\n",
    "predict_values[2]"
   ]
  },
  {
   "cell_type": "code",
   "execution_count": 34,
   "id": "edb272cb",
   "metadata": {},
   "outputs": [
    {
     "data": {
      "text/plain": [
       "array([[0.72648152, 0.27351848],\n",
       "       [0.41700867, 0.58299133],\n",
       "       [0.61136097, 0.38863903],\n",
       "       ...,\n",
       "       [0.36145435, 0.63854565],\n",
       "       [0.5723126 , 0.4276874 ],\n",
       "       [0.59436753, 0.40563247]])"
      ]
     },
     "execution_count": 34,
     "metadata": {},
     "output_type": "execute_result"
    }
   ],
   "source": [
    "# predicting using the test group (0 or 1)\n",
    "predict_probabilities.append(logreg.predict_proba(test))\n",
    "predict_probabilities[2]"
   ]
  },
  {
   "cell_type": "markdown",
   "id": "43983b90",
   "metadata": {},
   "source": [
    "### Random Forest"
   ]
  },
  {
   "cell_type": "code",
   "execution_count": 35,
   "id": "0b453e8a",
   "metadata": {},
   "outputs": [],
   "source": [
    "from sklearn.ensemble import RandomForestClassifier"
   ]
  },
  {
   "cell_type": "code",
   "execution_count": 36,
   "id": "0bb085d1",
   "metadata": {},
   "outputs": [],
   "source": [
    "start_time = time.time()\n",
    "\n",
    "random_forest = RandomForestClassifier(n_estimators=100)\n",
    "random_forest.fit(train, res_train)\n",
    "\n",
    "end_time = time.time()\n",
    "\n",
    "exec_time.append(end_time - start_time)"
   ]
  },
  {
   "cell_type": "code",
   "execution_count": 37,
   "id": "607b6f9c",
   "metadata": {},
   "outputs": [
    {
     "data": {
      "text/plain": [
       "{'bootstrap': True,\n",
       " 'ccp_alpha': 0.0,\n",
       " 'class_weight': None,\n",
       " 'criterion': 'gini',\n",
       " 'max_depth': None,\n",
       " 'max_features': 'sqrt',\n",
       " 'max_leaf_nodes': None,\n",
       " 'max_samples': None,\n",
       " 'min_impurity_decrease': 0.0,\n",
       " 'min_samples_leaf': 1,\n",
       " 'min_samples_split': 2,\n",
       " 'min_weight_fraction_leaf': 0.0,\n",
       " 'n_estimators': 100,\n",
       " 'n_jobs': None,\n",
       " 'oob_score': False,\n",
       " 'random_state': None,\n",
       " 'verbose': 0,\n",
       " 'warm_start': False}"
      ]
     },
     "execution_count": 37,
     "metadata": {},
     "output_type": "execute_result"
    }
   ],
   "source": [
    "random_forest.get_params()"
   ]
  },
  {
   "cell_type": "code",
   "execution_count": 38,
   "id": "cc3eb89c",
   "metadata": {},
   "outputs": [
    {
     "data": {
      "text/plain": [
       "array([0, 1, 0, ..., 1, 0, 0])"
      ]
     },
     "execution_count": 38,
     "metadata": {},
     "output_type": "execute_result"
    }
   ],
   "source": [
    "# predicting using the test group (0 or 1)\n",
    "predict_values.append(random_forest.predict(test))\n",
    "predict_values[3]"
   ]
  },
  {
   "cell_type": "code",
   "execution_count": 39,
   "id": "252291b0",
   "metadata": {},
   "outputs": [
    {
     "data": {
      "text/plain": [
       "array([[1.  , 0.  ],\n",
       "       [0.05, 0.95],\n",
       "       [1.  , 0.  ],\n",
       "       ...,\n",
       "       [0.  , 1.  ],\n",
       "       [0.97, 0.03],\n",
       "       [0.84, 0.16]])"
      ]
     },
     "execution_count": 39,
     "metadata": {},
     "output_type": "execute_result"
    }
   ],
   "source": [
    "# predicting using the test group (0 or 1)\n",
    "predict_probabilities.append(random_forest.predict_proba(test))\n",
    "predict_probabilities[3]"
   ]
  },
  {
   "cell_type": "markdown",
   "id": "a2899849",
   "metadata": {},
   "source": [
    "### Support Vector Machine (SVM)"
   ]
  },
  {
   "cell_type": "markdown",
   "id": "c90c30e5",
   "metadata": {},
   "source": [
    "Iniviavel rodar, super lento"
   ]
  },
  {
   "cell_type": "markdown",
   "id": "563cf91f",
   "metadata": {},
   "source": [
    "## Make some differents evalutions"
   ]
  },
  {
   "cell_type": "code",
   "execution_count": 40,
   "id": "1e547b4f",
   "metadata": {},
   "outputs": [
    {
     "name": "stdout",
     "output_type": "stream",
     "text": [
      "Decision Tree\n",
      "[[2367   75]\n",
      " [  53 2909]]\n",
      "\n",
      "\n",
      "K-Nearest Neighbors (KNN)\n",
      "[[1846  596]\n",
      " [ 945 2017]]\n",
      "\n",
      "\n",
      "Regressao Logistica\n",
      "[[1331 1111]\n",
      " [ 814 2148]]\n",
      "\n",
      "\n",
      "Random Forest\n",
      "[[2416   26]\n",
      " [  14 2948]]\n",
      "\n",
      "\n"
     ]
    }
   ],
   "source": [
    "from sklearn.metrics import confusion_matrix\n",
    "\n",
    "for i in range(4):\n",
    "    print(algorithm[i])\n",
    "    print(confusion_matrix(res_test, predict_values[i]), end='\\n\\n\\n')\n",
    "\n",
    "# mostra em forma de matriz, quantos deram (1,1), (1,0) (0,1), (0,0)\n",
    "# como a precisão é alta, os valores da diagonal principal sao maiores\n",
    "# (0,0)   (0,1)\n",
    "# (1,0)   (1,1)\n",
    "# PODE OLHAR SE TA TENDO MAIS FALSO POSITIVO OU FALSO NEGATIVO"
   ]
  },
  {
   "cell_type": "code",
   "execution_count": 41,
   "id": "92e93c10",
   "metadata": {},
   "outputs": [
    {
     "name": "stdout",
     "output_type": "stream",
     "text": [
      "Decision Tree\n",
      "              precision    recall  f1-score   support\n",
      "\n",
      "           0    0.97810   0.96929   0.97367      2442\n",
      "           1    0.97487   0.98211   0.97847      2962\n",
      "\n",
      "    accuracy                        0.97631      5404\n",
      "   macro avg    0.97648   0.97570   0.97607      5404\n",
      "weighted avg    0.97633   0.97631   0.97630      5404\n",
      "\n",
      "\n",
      "\n",
      "K-Nearest Neighbors (KNN)\n",
      "              precision    recall  f1-score   support\n",
      "\n",
      "           0    0.66141   0.75594   0.70552      2442\n",
      "           1    0.77191   0.68096   0.72359      2962\n",
      "\n",
      "    accuracy                        0.71484      5404\n",
      "   macro avg    0.71666   0.71845   0.71456      5404\n",
      "weighted avg    0.72198   0.71484   0.71542      5404\n",
      "\n",
      "\n",
      "\n",
      "Regressao Logistica\n",
      "              precision    recall  f1-score   support\n",
      "\n",
      "           0    0.62051   0.54505   0.58034      2442\n",
      "           1    0.65910   0.72519   0.69056      2962\n",
      "\n",
      "    accuracy                        0.64378      5404\n",
      "   macro avg    0.63981   0.63512   0.63545      5404\n",
      "weighted avg    0.64166   0.64378   0.64075      5404\n",
      "\n",
      "\n",
      "\n",
      "Random Forest\n",
      "              precision    recall  f1-score   support\n",
      "\n",
      "           0    0.99424   0.98935   0.99179      2442\n",
      "           1    0.99126   0.99527   0.99326      2962\n",
      "\n",
      "    accuracy                        0.99260      5404\n",
      "   macro avg    0.99275   0.99231   0.99253      5404\n",
      "weighted avg    0.99260   0.99260   0.99260      5404\n",
      "\n",
      "\n",
      "\n"
     ]
    }
   ],
   "source": [
    "from sklearn.metrics import classification_report, accuracy_score\n",
    "\n",
    "for i in range(4):\n",
    "    print(algorithm[i])\n",
    "    print(classification_report(res_test, predict_values[i], target_names=['0', '1'], digits=5), end='\\n\\n\\n')\n",
    "    metrics.append(accuracy_score(res_test, predict_values[i]))\n"
   ]
  },
  {
   "cell_type": "code",
   "execution_count": 42,
   "id": "4bea9199",
   "metadata": {},
   "outputs": [
    {
     "data": {
      "image/png": "[encoded data removed]",
      "text/plain": [
       "<Figure size 640x480 with 1 Axes>"
      ]
     },
     "metadata": {},
     "output_type": "display_data"
    }
   ],
   "source": [
    "import matplotlib.pyplot as plt\n",
    "\n",
    "# plt.plot(algorithm, metrics)\n",
    "plt.bar(algorithm, metrics, width=0.5)\n",
    "plt.title('Algorithms acurracy graph')\n",
    "plt.xlabel('Algorithms')\n",
    "plt.ylabel('Acurracy')\n",
    "\n",
    "plt.show()"
   ]
  },
  {
   "cell_type": "code",
   "execution_count": 43,
   "id": "596d1e18",
   "metadata": {},
   "outputs": [
    {
     "data": {
      "image/png": "[encoded data removed]",
      "text/plain": [
       "<Figure size 640x480 with 1 Axes>"
      ]
     },
     "metadata": {},
     "output_type": "display_data"
    }
   ],
   "source": [
    "plt.bar(algorithm, exec_time, width=0.5)\n",
    "plt.title('Algorithms execution time graph')\n",
    "plt.xlabel('Algorithms')\n",
    "plt.ylabel('Time')\n",
    "\n",
    "plt.show()"
   ]
  },
  {
   "cell_type": "markdown",
   "id": "dafe66cd",
   "metadata": {},
   "source": [
    "## Cross Validation"
   ]
  },
  {
   "cell_type": "code",
   "execution_count": 105,
   "id": "494416d2",
   "metadata": {},
   "outputs": [],
   "source": [
    "from sklearn.model_selection import StratifiedKFold\n",
    "\n",
    "alg_runner = {\n",
    "    'decision_tree' : DecisionTreeClassifier(),\n",
    "    'KNN' : KNeighborsClassifier(n_neighbors=10),\n",
    "    'log_reg' : LogisticRegression(max_iter=1000),\n",
    "    'random_forest' : RandomForestClassifier(n_estimators=100)\n",
    "}\n",
    "\n",
    "labels = dataset.poisonous\n",
    "dataframe = dataset.drop('poisonous',inplace=False, axis=1)"
   ]
  },
  {
   "cell_type": "code",
   "execution_count": 106,
   "id": "08343976",
   "metadata": {},
   "outputs": [],
   "source": [
    "kf = StratifiedKFold(n_splits=5, shuffle=True)"
   ]
  },
  {
   "cell_type": "code",
   "execution_count": 107,
   "id": "1ed0738b",
   "metadata": {},
   "outputs": [
    {
     "data": {
      "text/html": [
       "<div>\n",
       "<style scoped>\n",
       "    .dataframe tbody tr th:only-of-type {\n",
       "        vertical-align: middle;\n",
       "    }\n",
       "\n",
       "    .dataframe tbody tr th {\n",
       "        vertical-align: top;\n",
       "    }\n",
       "\n",
       "    .dataframe thead th {\n",
       "        text-align: right;\n",
       "    }\n",
       "</style>\n",
       "<table border=\"1\" class=\"dataframe\">\n",
       "  <thead>\n",
       "    <tr style=\"text-align: right;\">\n",
       "      <th></th>\n",
       "      <th>algorithm</th>\n",
       "      <th>fold</th>\n",
       "      <th>accuracy</th>\n",
       "    </tr>\n",
       "  </thead>\n",
       "  <tbody>\n",
       "    <tr>\n",
       "      <th>0</th>\n",
       "      <td>decision_tree</td>\n",
       "      <td>0</td>\n",
       "      <td>0.978070</td>\n",
       "    </tr>\n",
       "    <tr>\n",
       "      <th>1</th>\n",
       "      <td>KNN</td>\n",
       "      <td>0</td>\n",
       "      <td>0.709170</td>\n",
       "    </tr>\n",
       "    <tr>\n",
       "      <th>2</th>\n",
       "      <td>log_reg</td>\n",
       "      <td>0</td>\n",
       "      <td>0.632090</td>\n",
       "    </tr>\n",
       "    <tr>\n",
       "      <th>3</th>\n",
       "      <td>random_forest</td>\n",
       "      <td>0</td>\n",
       "      <td>0.991117</td>\n",
       "    </tr>\n",
       "    <tr>\n",
       "      <th>4</th>\n",
       "      <td>decision_tree</td>\n",
       "      <td>1</td>\n",
       "      <td>0.975294</td>\n",
       "    </tr>\n",
       "    <tr>\n",
       "      <th>5</th>\n",
       "      <td>KNN</td>\n",
       "      <td>1</td>\n",
       "      <td>0.708615</td>\n",
       "    </tr>\n",
       "    <tr>\n",
       "      <th>6</th>\n",
       "      <td>log_reg</td>\n",
       "      <td>1</td>\n",
       "      <td>0.634959</td>\n",
       "    </tr>\n",
       "    <tr>\n",
       "      <th>7</th>\n",
       "      <td>random_forest</td>\n",
       "      <td>1</td>\n",
       "      <td>0.991117</td>\n",
       "    </tr>\n",
       "    <tr>\n",
       "      <th>8</th>\n",
       "      <td>decision_tree</td>\n",
       "      <td>2</td>\n",
       "      <td>0.976034</td>\n",
       "    </tr>\n",
       "    <tr>\n",
       "      <th>9</th>\n",
       "      <td>KNN</td>\n",
       "      <td>2</td>\n",
       "      <td>0.714167</td>\n",
       "    </tr>\n",
       "    <tr>\n",
       "      <th>10</th>\n",
       "      <td>log_reg</td>\n",
       "      <td>2</td>\n",
       "      <td>0.634404</td>\n",
       "    </tr>\n",
       "    <tr>\n",
       "      <th>11</th>\n",
       "      <td>random_forest</td>\n",
       "      <td>2</td>\n",
       "      <td>0.987508</td>\n",
       "    </tr>\n",
       "    <tr>\n",
       "      <th>12</th>\n",
       "      <td>decision_tree</td>\n",
       "      <td>3</td>\n",
       "      <td>0.976774</td>\n",
       "    </tr>\n",
       "    <tr>\n",
       "      <th>13</th>\n",
       "      <td>KNN</td>\n",
       "      <td>3</td>\n",
       "      <td>0.708892</td>\n",
       "    </tr>\n",
       "    <tr>\n",
       "      <th>14</th>\n",
       "      <td>log_reg</td>\n",
       "      <td>3</td>\n",
       "      <td>0.634774</td>\n",
       "    </tr>\n",
       "    <tr>\n",
       "      <th>15</th>\n",
       "      <td>random_forest</td>\n",
       "      <td>3</td>\n",
       "      <td>0.990192</td>\n",
       "    </tr>\n",
       "    <tr>\n",
       "      <th>16</th>\n",
       "      <td>decision_tree</td>\n",
       "      <td>4</td>\n",
       "      <td>0.978995</td>\n",
       "    </tr>\n",
       "    <tr>\n",
       "      <th>17</th>\n",
       "      <td>KNN</td>\n",
       "      <td>4</td>\n",
       "      <td>0.715462</td>\n",
       "    </tr>\n",
       "    <tr>\n",
       "      <th>18</th>\n",
       "      <td>log_reg</td>\n",
       "      <td>4</td>\n",
       "      <td>0.641436</td>\n",
       "    </tr>\n",
       "    <tr>\n",
       "      <th>19</th>\n",
       "      <td>random_forest</td>\n",
       "      <td>4</td>\n",
       "      <td>0.989729</td>\n",
       "    </tr>\n",
       "  </tbody>\n",
       "</table>\n",
       "</div>"
      ],
      "text/plain": [
       "        algorithm  fold  accuracy\n",
       "0   decision_tree     0  0.978070\n",
       "1             KNN     0  0.709170\n",
       "2         log_reg     0  0.632090\n",
       "3   random_forest     0  0.991117\n",
       "4   decision_tree     1  0.975294\n",
       "5             KNN     1  0.708615\n",
       "6         log_reg     1  0.634959\n",
       "7   random_forest     1  0.991117\n",
       "8   decision_tree     2  0.976034\n",
       "9             KNN     2  0.714167\n",
       "10        log_reg     2  0.634404\n",
       "11  random_forest     2  0.987508\n",
       "12  decision_tree     3  0.976774\n",
       "13            KNN     3  0.708892\n",
       "14        log_reg     3  0.634774\n",
       "15  random_forest     3  0.990192\n",
       "16  decision_tree     4  0.978995\n",
       "17            KNN     4  0.715462\n",
       "18        log_reg     4  0.641436\n",
       "19  random_forest     4  0.989729"
      ]
     },
     "execution_count": 107,
     "metadata": {},
     "output_type": "execute_result"
    }
   ],
   "source": [
    "results = []\n",
    "\n",
    "for fold, (train_index, test_index) in enumerate(kf.split(dataframe, labels)):\n",
    "    train = dataframe.iloc[train_index]\n",
    "    train_labels = labels.iloc[train_index]\n",
    "\n",
    "    test = dataframe.iloc[test_index]\n",
    "    test_labels = labels.iloc[test_index]\n",
    "\n",
    "    for alg_name, alg_run in alg_runner.items():\n",
    "        alg_run.fit(train, train_labels)\n",
    "        predict = alg_run.predict(test)\n",
    "        acc = accuracy_score(test_labels, predict)\n",
    "        results.append([alg_name, fold, acc])\n",
    "\n",
    "df_results = pd.DataFrame(results, columns=['algorithm', 'fold', 'accuracy']) \n",
    "df_results"
   ]
  },
  {
   "cell_type": "code",
   "execution_count": 116,
   "id": "bde089f5",
   "metadata": {},
   "outputs": [
    {
     "data": {
      "image/png": "[encoded data removed]",
      "text/plain": [
       "<Figure size 640x480 with 1 Axes>"
      ]
     },
     "metadata": {},
     "output_type": "display_data"
    }
   ],
   "source": [
    "import matplotlib.pyplot as plt\n",
    "import numpy as np\n",
    "\n",
    "x_labels = list(set([data[1] for data in results]))\n",
    "data1 = [data[2] for data in results if data[0] == 'decision_tree']\n",
    "data2 = [data[2] for data in results if data[0] == 'KNN']\n",
    "data3 = [data[2] for data in results if data[0] == 'log_reg']\n",
    "data4 = [data[2] for data in results if data[0] == 'random_forest']\n",
    "\n",
    "x = np.arange(len(x_labels))\n",
    "width = 0.2\n",
    "\n",
    "fig, ax = plt.subplots()\n",
    "\n",
    "rects1 = ax.bar(x - 1.5*width, data1, width, label='Decision Tree')\n",
    "rects2 = ax.bar(x - 0.5*width, data2, width, label='KNN')\n",
    "rects3 = ax.bar(x + 0.5*width, data3, width, label='Logistic Regression')\n",
    "rects4 = ax.bar(x + 1.5*width, data4, width, label='Randon Forest')\n",
    "\n",
    "ax.set_ylabel('Accuracy')\n",
    "ax.set_title('Graph the accuracy of each algorithm at each fold')\n",
    "ax.set_xticks(x)\n",
    "ax.set_xticklabels(x_labels)\n",
    "ax.legend()\n",
    "\n",
    "# def autolabel(rects):\n",
    "#     for rect in rects:\n",
    "#         height = rect.get_height()\n",
    "#         ax.annotate(f'{height}',\n",
    "#                     xy=(rect.get_x() + rect.get_width() / 2, height),\n",
    "#                     xytext=(0, 3),  # 3 pontos de deslocamento vertical\n",
    "#                     textcoords=\"offset points\",\n",
    "#                     ha='center', va='bottom')\n",
    "\n",
    "# autolabel(rects1)\n",
    "# autolabel(rects2)\n",
    "# autolabel(rects3)\n",
    "# autolabel(rects4)\n",
    "\n",
    "fig.tight_layout()\n",
    "plt.show()\n"
   ]
  },
  {
   "cell_type": "markdown",
   "id": "4098c93c",
   "metadata": {},
   "source": [
    "Esse gráfico mostra que não está havendo overfitting do modelo aos dados da dataset"
   ]
  },
  {
   "cell_type": "markdown",
   "id": "e66e34ba",
   "metadata": {},
   "source": [
    "## Making some insights"
   ]
  },
  {
   "cell_type": "code",
   "execution_count": null,
   "id": "bfe5cf8d",
   "metadata": {},
   "outputs": [
    {
     "data": {
      "text/plain": [
       "<Axes: >"
      ]
     },
     "execution_count": 36,
     "metadata": {},
     "output_type": "execute_result"
    },
    {
     "data": {
      "image/png": "[encoded data removed]",
      "text/plain": [
       "<Figure size 640x480 with 1 Axes>"
      ]
     },
     "metadata": {},
     "output_type": "display_data"
    }
   ],
   "source": [
    "# plot the importance of each parameter in the training\n",
    "feature_importance = pd.DataFrame(tree.feature_importances_, index=dataframe.columns).sort_values(0, ascending=False)\n",
    "feature_importance.plot(kind='bar')"
   ]
  }
 ],
 "metadata": {
  "kernelspec": {
   "display_name": "Python 3 (ipykernel)",
   "language": "python",
   "name": "python3"
  },
  "language_info": {
   "codemirror_mode": {
    "name": "ipython",
    "version": 3
   },
   "file_extension": ".py",
   "mimetype": "text/x-python",
   "name": "python",
   "nbconvert_exporter": "python",
   "pygments_lexer": "ipython3",
   "version": "3.10.12"
  }
 },
 "nbformat": 4,
 "nbformat_minor": 5
}
